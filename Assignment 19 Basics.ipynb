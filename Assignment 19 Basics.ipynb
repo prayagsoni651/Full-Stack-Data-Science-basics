{
 "cells": [
  {
   "cell_type": "code",
   "execution_count": 1,
   "id": "6af9edb9",
   "metadata": {},
   "outputs": [
    {
     "name": "stdout",
     "output_type": "stream",
     "text": [
      "<class '__main__.Thing'>\n",
      "<__main__.Thing object at 0x000001D719FE3910>\n"
     ]
    }
   ],
   "source": [
    "\"\"\"\n",
    "\n",
    "1. Make a class called Thing with no contents and print it. Then, create an object called example\n",
    "from this class and also print it. Are the printed values the same or different?\n",
    "\n",
    "\"\"\"\n",
    "\n",
    "# Define the class Thing\n",
    "class Thing:\n",
    "    pass\n",
    "\n",
    "# Print the class Thing\n",
    "print(Thing)\n",
    "\n",
    "# Create an object called example from the Thing class\n",
    "example = Thing()\n",
    "\n",
    "# Print the object example\n",
    "print(example)\n"
   ]
  },
  {
   "cell_type": "code",
   "execution_count": 2,
   "id": "e2b0e3cc",
   "metadata": {},
   "outputs": [
    {
     "name": "stdout",
     "output_type": "stream",
     "text": [
      "abc\n"
     ]
    }
   ],
   "source": [
    "\"\"\"\n",
    "2. Create a new class called Thing2 and add the value 39;abc&#39; to the letters class attribute. Letters\n",
    "should be printed.\n",
    "\n",
    "\"\"\"\n",
    "\n",
    "# Define the class Thing2\n",
    "class Thing2:\n",
    "    # Add the class attribute letters with value 'abc'\n",
    "    letters = 'abc'\n",
    "\n",
    "# Print the class attribute letters\n",
    "print(Thing2.letters)\n"
   ]
  },
  {
   "cell_type": "code",
   "execution_count": 3,
   "id": "a010ec74",
   "metadata": {},
   "outputs": [
    {
     "name": "stdout",
     "output_type": "stream",
     "text": [
      "xyz\n"
     ]
    }
   ],
   "source": [
    "\"\"\"\n",
    "3. Make yet another class called, of course, Thing3. This time, assign the value &#39;xyz&#39; to an instance\n",
    "(object) attribute called letters. Print letters. Do you need to make an object from the class to do\n",
    "this?\n",
    "\"\"\"\n",
    "\n",
    "# Define the class Thing3\n",
    "class Thing3:\n",
    "    def __init__(self):\n",
    "        # Assign 'xyz' to the instance attribute letters\n",
    "        self.letters = 'xyz'\n",
    "\n",
    "# Create an object from the Thing3 class\n",
    "example3 = Thing3()\n",
    "\n",
    "# Print the instance attribute letters\n",
    "print(example3.letters)\n"
   ]
  },
  {
   "cell_type": "code",
   "execution_count": 4,
   "id": "6de6620b",
   "metadata": {},
   "outputs": [
    {
     "name": "stdout",
     "output_type": "stream",
     "text": [
      "Hydrogen\n",
      "H\n",
      "1\n"
     ]
    }
   ],
   "source": [
    "\"\"\"\n",
    "4. Create an Element class with the instance attributes name, symbol, and number. Create a class\n",
    "object with the values &#39;Hydrogen,&#39; &#39;H,&#39; and 1.\n",
    "\n",
    "\"\"\"\n",
    "\n",
    "# Define the class Element\n",
    "class Element:\n",
    "    def __init__(self, name, symbol, number):\n",
    "        # Assign values to the instance attributes\n",
    "        self.name = name\n",
    "        self.symbol = symbol\n",
    "        self.number = number\n",
    "\n",
    "# Create an object of the Element class with the specified values\n",
    "hydrogen = Element('Hydrogen', 'H', 1)\n",
    "\n",
    "# Print the attributes to verify\n",
    "print(hydrogen.name)    # Output: Hydrogen\n",
    "print(hydrogen.symbol)  # Output: H\n",
    "print(hydrogen.number)  # Output: 1\n"
   ]
  },
  {
   "cell_type": "code",
   "execution_count": 7,
   "id": "cc5e8cad",
   "metadata": {},
   "outputs": [
    {
     "name": "stdout",
     "output_type": "stream",
     "text": [
      "Hydrogen\n",
      "H\n",
      "1\n"
     ]
    }
   ],
   "source": [
    "\"\"\"\n",
    "5. Make a dictionary with these keys and values: &#39;name&#39;: &#39;Hydrogen&#39;, &#39;symbol&#39;: &#39;H&#39;, &#39;number&#39;: 1. Then,\n",
    "create an object called hydrogen from class Element using this dictionary.\n",
    "\"\"\"\n",
    "\n",
    "# Define the class Element\n",
    "class Element:\n",
    "    def __init__(self, name, symbol, number):\n",
    "        # Assign values to the instance attributes\n",
    "        self.name = name\n",
    "        self.symbol = symbol\n",
    "        self.number = number\n",
    "\n",
    "# Create a dictionary with the specified keys and values\n",
    "element_dict = {'name': 'Hydrogen', 'symbol': 'H', 'number': 1}\n",
    "\n",
    "# Create an object of the Element class using the dictionary\n",
    "hydrogen = Element(**element_dict)\n",
    "\n",
    "# Print the attributes to verify\n",
    "print(hydrogen.name)    # Output: Hydrogen\n",
    "print(hydrogen.symbol)  # Output: H\n",
    "print(hydrogen.number)  # Output: 1\n"
   ]
  },
  {
   "cell_type": "code",
   "execution_count": 8,
   "id": "c998da20",
   "metadata": {},
   "outputs": [
    {
     "name": "stdout",
     "output_type": "stream",
     "text": [
      "Name: Hydrogen, Symbol: H, Number: 1\n"
     ]
    }
   ],
   "source": [
    "'''\n",
    "6. For the Element class, define a method called dump() that prints the values of the object’s\n",
    "attributes (name, symbol, and number). Create the hydrogen object from this new definition and\n",
    "use dump() to print its attributes.\n",
    "\n",
    "'''\n",
    "\n",
    "# Define the class Element with the dump method\n",
    "class Element:\n",
    "    def __init__(self, name, symbol, number):\n",
    "        # Assign values to the instance attributes\n",
    "        self.name = name\n",
    "        self.symbol = symbol\n",
    "        self.number = number\n",
    "\n",
    "    def dump(self):\n",
    "        # Print the values of the object's attributes\n",
    "        print(f'Name: {self.name}, Symbol: {self.symbol}, Number: {self.number}')\n",
    "\n",
    "# Create a dictionary with the specified keys and values\n",
    "element_dict = {'name': 'Hydrogen', 'symbol': 'H', 'number': 1}\n",
    "\n",
    "# Create an object of the Element class using the dictionary\n",
    "hydrogen = Element(**element_dict)\n",
    "\n",
    "# Use the dump method to print the object's attributes\n",
    "hydrogen.dump()\n"
   ]
  },
  {
   "cell_type": "code",
   "execution_count": 9,
   "id": "a9ce8f21",
   "metadata": {},
   "outputs": [
    {
     "name": "stdout",
     "output_type": "stream",
     "text": [
      "Name: Hydrogen, Symbol: H, Number: 1\n"
     ]
    }
   ],
   "source": [
    "'''\n",
    "7. Call print(hydrogen). In the definition of Element, change the name of method dump to __str__,\n",
    "create a new hydrogen object, and call print(hydrogen) again.\n",
    "\n",
    "'''\n",
    "\n",
    "# Define the class Element with the __str__ method\n",
    "class Element:\n",
    "    def __init__(self, name, symbol, number):\n",
    "        # Assign values to the instance attributes\n",
    "        self.name = name\n",
    "        self.symbol = symbol\n",
    "        self.number = number\n",
    "\n",
    "    def __str__(self):\n",
    "        # Return a string that describes the object\n",
    "        return f'Name: {self.name}, Symbol: {self.symbol}, Number: {self.number}'\n",
    "\n",
    "# Create a dictionary with the specified keys and values\n",
    "element_dict = {'name': 'Hydrogen', 'symbol': 'H', 'number': 1}\n",
    "\n",
    "# Create a new object of the Element class using the dictionary\n",
    "hydrogen = Element(**element_dict)\n",
    "\n",
    "# Call print(hydrogen) to use the __str__ method\n",
    "print(hydrogen)\n"
   ]
  },
  {
   "cell_type": "code",
   "execution_count": 10,
   "id": "477c2f38",
   "metadata": {},
   "outputs": [
    {
     "name": "stdout",
     "output_type": "stream",
     "text": [
      "Hydrogen\n",
      "H\n",
      "1\n"
     ]
    }
   ],
   "source": [
    "'''\n",
    "8. Modify Element to make the attributes name, symbol, and number private. Define a getter\n",
    "property for each to return its value.\n",
    "\n",
    "'''\n",
    "\n",
    "class Element:\n",
    "    def __init__(self, name, symbol, number):\n",
    "        # Make the attributes private by prefixing them with double underscores\n",
    "        self.__name = name\n",
    "        self.__symbol = symbol\n",
    "        self.__number = number\n",
    "\n",
    "    # Define getter properties for each attribute using property decorator\n",
    "    @property\n",
    "    def name(self):\n",
    "        return self.__name\n",
    "\n",
    "    @property\n",
    "    def symbol(self):\n",
    "        return self.__symbol\n",
    "\n",
    "    @property\n",
    "    def number(self):\n",
    "        return self.__number\n",
    "\n",
    "# Create a dictionary with the specified keys and values\n",
    "element_dict = {'name': 'Hydrogen', 'symbol': 'H', 'number': 1}\n",
    "\n",
    "# Create a new object of the Element class using the dictionary\n",
    "hydrogen = Element(**element_dict)\n",
    "\n",
    "# Access the private attributes using the getter properties\n",
    "print(hydrogen.name)    # Output: Hydrogen\n",
    "print(hydrogen.symbol)  # Output: H\n",
    "print(hydrogen.number)  # Output: 1\n"
   ]
  },
  {
   "cell_type": "code",
   "execution_count": 11,
   "id": "40181c44",
   "metadata": {},
   "outputs": [
    {
     "name": "stdout",
     "output_type": "stream",
     "text": [
      "Bear eats: berries\n",
      "Rabbit eats: clover\n",
      "Octothorpe eats: campers\n"
     ]
    }
   ],
   "source": [
    "'''\n",
    "\n",
    "9. Define three classes: Bear, Rabbit, and Octothorpe. For each, define only one method: eats(). This\n",
    "should return &#39;berries&#39; (Bear), &#39;clover&#39; (Rabbit), or &#39;campers&#39; (Octothorpe). Create one object from\n",
    "each and print what it eats.\n",
    "\n",
    "'''\n",
    "\n",
    "class Bear:\n",
    "    def eats(self):\n",
    "        return 'berries'\n",
    "\n",
    "class Rabbit:\n",
    "    def eats(self):\n",
    "        return 'clover'\n",
    "\n",
    "class Octothorpe:\n",
    "    def eats(self):\n",
    "        return 'campers'\n",
    "\n",
    "# Create objects from each class\n",
    "bear = Bear()\n",
    "rabbit = Rabbit()\n",
    "octothorpe = Octothorpe()\n",
    "\n",
    "# Print what each animal eats\n",
    "print(\"Bear eats:\", bear.eats())  # Output: Bear eats: berries\n",
    "print(\"Rabbit eats:\", rabbit.eats())  # Output: Rabbit eats: clover\n",
    "print(\"Octothorpe eats:\", octothorpe.eats())  # Output: Octothorpe eats: campers\n"
   ]
  },
  {
   "cell_type": "code",
   "execution_count": 12,
   "id": "9f102b42",
   "metadata": {},
   "outputs": [
    {
     "name": "stdout",
     "output_type": "stream",
     "text": [
      "Laser: disintegrate\n",
      "Claw: crush\n",
      "SmartPhone: ring\n"
     ]
    }
   ],
   "source": [
    "'''\n",
    "\n",
    "10. Define these classes: Laser, Claw, and SmartPhone. Each has only one method: does(). This\n",
    "returns &#39;disintegrate&#39; (Laser), &#39;crush&#39; (Claw), or &#39;ring&#39; (SmartPhone). Then, define the class Robot that\n",
    "has one instance (object) of each of these. Define a does() method for the Robot that prints what its\n",
    "component objects do.\n",
    "\n",
    "'''\n",
    "\n",
    "class Laser:\n",
    "    def does(self):\n",
    "        return 'disintegrate'\n",
    "\n",
    "class Claw:\n",
    "    def does(self):\n",
    "        return 'crush'\n",
    "\n",
    "class SmartPhone:\n",
    "    def does(self):\n",
    "        return 'ring'\n",
    "\n",
    "class Robot:\n",
    "    def __init__(self):\n",
    "        # Create instances of Laser, Claw, and SmartPhone as attributes of Robot\n",
    "        self.laser = Laser()\n",
    "        self.claw = Claw()\n",
    "        self.smartphone = SmartPhone()\n",
    "\n",
    "    def does(self):\n",
    "        # Print what each component object does\n",
    "        print(\"Laser:\", self.laser.does())\n",
    "        print(\"Claw:\", self.claw.does())\n",
    "        print(\"SmartPhone:\", self.smartphone.does())\n",
    "\n",
    "# Create an instance of the Robot class\n",
    "robot = Robot()\n",
    "\n",
    "# Call the does() method of the Robot to print what its components do\n",
    "robot.does()\n"
   ]
  },
  {
   "cell_type": "code",
   "execution_count": null,
   "id": "74a67468",
   "metadata": {},
   "outputs": [],
   "source": []
  },
  {
   "cell_type": "code",
   "execution_count": null,
   "id": "e0fc6294",
   "metadata": {},
   "outputs": [],
   "source": []
  },
  {
   "cell_type": "code",
   "execution_count": null,
   "id": "532dfc33",
   "metadata": {},
   "outputs": [],
   "source": []
  },
  {
   "cell_type": "code",
   "execution_count": null,
   "id": "c713be31",
   "metadata": {},
   "outputs": [],
   "source": []
  },
  {
   "cell_type": "code",
   "execution_count": null,
   "id": "5bb4da9f",
   "metadata": {},
   "outputs": [],
   "source": []
  }
 ],
 "metadata": {
  "kernelspec": {
   "display_name": "Python 3 (ipykernel)",
   "language": "python",
   "name": "python3"
  },
  "language_info": {
   "codemirror_mode": {
    "name": "ipython",
    "version": 3
   },
   "file_extension": ".py",
   "mimetype": "text/x-python",
   "name": "python",
   "nbconvert_exporter": "python",
   "pygments_lexer": "ipython3",
   "version": "3.11.5"
  }
 },
 "nbformat": 4,
 "nbformat_minor": 5
}
